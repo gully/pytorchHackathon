{
 "cells": [
  {
   "cell_type": "markdown",
   "metadata": {},
   "source": [
    "# Revised stellar parameters for HelloWorldNet"
   ]
  },
  {
   "cell_type": "code",
   "execution_count": 1,
   "metadata": {},
   "outputs": [],
   "source": [
    "#! wget https://iopscience.iop.org/0004-637X/866/2/99/suppdata/apjaada83t1_mrt.txt\n",
    "#! mkdir ../data\n",
    "#! mv apjaada83t1_mrt.txt ../data/Berger2018_tbl1.txt"
   ]
  },
  {
   "cell_type": "code",
   "execution_count": 2,
   "metadata": {},
   "outputs": [
    {
     "name": "stdout",
     "output_type": "stream",
     "text": [
      "Berger2018_tbl1.txt\r\n"
     ]
    }
   ],
   "source": [
    "! ls ../data/"
   ]
  },
  {
   "cell_type": "code",
   "execution_count": 3,
   "metadata": {},
   "outputs": [
    {
     "name": "stdout",
     "output_type": "stream",
     "text": [
      "Title: Revised Radii Of Kepler Stars And Planets Using Gaia Data Release 2 \r\n",
      "Authors: Berger T.A., Huber D., Gaidos E., van Saders J.L.\r\n",
      "Table: Revised Parameters of Kepler Stars\r\n",
      "================================================================================\r\n",
      "Byte-by-byte Description of file: apjaada83t1_mrt.txt\r\n",
      "--------------------------------------------------------------------------------\r\n",
      "   Bytes Format Units    Label  Explanations\r\n",
      "--------------------------------------------------------------------------------\r\n",
      "   1-  8 I8     ---      KIC    Kepler Input Catalog identifier\r\n",
      "  10- 28 I19    ---      Gaia   Gaia DR2 identifier \r\n",
      "  30- 34 I5     K        Teff   Effective temperature\r\n",
      "  36- 38 I3     K      e_Teff   Uncertainty in Teff\r\n",
      "  40- 48 F9.3   pc       D      Distance  \r\n",
      "  50- 57 F8.3   pc     E_D      Upper uncertainty limit in D\r\n",
      "  59- 66 F8.3   pc     e_D      Lower uncertainty limit in D\r\n",
      "  68- 74 F7.3   solRad   R*     Stellar radius\r\n",
      "  76- 81 F6.3   solRad E_R*     Upper uncertainty in R*\r\n",
      "  83- 88 F6.3   solRad e_R*     Lower uncertainty in R*\r\n",
      "  90- 94 F5.3   mag      AV     V band extinction \r\n",
      "      96 I1     ---      Evol   Evolved flag (1)\r\n",
      "      98 I1     ---      Bin    Binary flag (2)\r\n",
      "--------------------------------------------------------------------------------\r\n",
      "Note (1):\r\n",
      "    0 = main sequence dwarf;\r\n",
      "    1 = subgiant;\r\n",
      "    2 = red giant.\r\n",
      "Note (2):\r\n",
      "    0 = no indication of binary;\r\n",
      "    1 = binary candidate based on Gaia radius only;\r\n",
      "    2 = AO-detected binary only (Ziegler et al. 2018) [2018AJ....155..161Z];\r\n",
      "    3 = binary candidate based on Gaia radius and AO-detected binary\r\n",
      "--------------------------------------------------------------------------------\r\n",
      "  757076 2050233807328471424  5164 181   658.465   21.419   20.163   3.986  0.324  0.293 0.273 1 0 \r\n",
      "  757099 2050233601176543104  5521 193   369.374    3.708    3.645   1.053  0.078  0.071 0.120 0 0 \r\n",
      "  757137 2050230543159814656  4751 166   570.715    8.271    8.060  13.406  1.004  0.916 0.230 2 0 \r\n",
      "  757280 2050230611879323904  6543 229   824.791   15.079   14.586   2.687  0.205  0.186 0.323 0 0 \r\n",
      "  757450 2050231848829944320  5306 106   835.371   18.423   17.692   0.962  0.047  0.044 0.298 0 0 \r\n",
      "  892010 2050234975566082176  4834 169  1856.534   86.437   79.285  14.826  1.302  1.178 0.258 2 0 \r\n",
      "  892107 2050234696381511808  5086 178   941.305   20.518   19.713   4.334  0.334  0.303 0.186 2 0 \r\n",
      "  892195 2050234735047928320  5521 193   480.822    3.850    3.800   0.983  0.073  0.066 0.141 0 0 \r\n"
     ]
    }
   ],
   "source": [
    "! head -n 40 ../data/Berger2018_tbl1.txt"
   ]
  },
  {
   "cell_type": "markdown",
   "metadata": {},
   "source": [
    "The format requires astropy"
   ]
  },
  {
   "cell_type": "code",
   "execution_count": 4,
   "metadata": {},
   "outputs": [],
   "source": [
    "from astropy.io import ascii"
   ]
  },
  {
   "cell_type": "code",
   "execution_count": 5,
   "metadata": {},
   "outputs": [],
   "source": [
    "tab1 = ascii.read('../data/Berger2018_tbl1.txt')"
   ]
  },
  {
   "cell_type": "markdown",
   "metadata": {},
   "source": [
    "Cool!  Let's send that to pandas."
   ]
  },
  {
   "cell_type": "code",
   "execution_count": 6,
   "metadata": {},
   "outputs": [],
   "source": [
    "df = tab1.to_pandas()"
   ]
  },
  {
   "cell_type": "code",
   "execution_count": 7,
   "metadata": {},
   "outputs": [],
   "source": [
    "keep_cols = ['KIC', 'Teff', 'R*','Evol', 'Bin']"
   ]
  },
  {
   "cell_type": "code",
   "execution_count": 8,
   "metadata": {},
   "outputs": [],
   "source": [
    "df = df[keep_cols]"
   ]
  },
  {
   "cell_type": "code",
   "execution_count": 9,
   "metadata": {},
   "outputs": [
    {
     "data": {
      "text/html": [
       "<div>\n",
       "<style scoped>\n",
       "    .dataframe tbody tr th:only-of-type {\n",
       "        vertical-align: middle;\n",
       "    }\n",
       "\n",
       "    .dataframe tbody tr th {\n",
       "        vertical-align: top;\n",
       "    }\n",
       "\n",
       "    .dataframe thead th {\n",
       "        text-align: right;\n",
       "    }\n",
       "</style>\n",
       "<table border=\"1\" class=\"dataframe\">\n",
       "  <thead>\n",
       "    <tr style=\"text-align: right;\">\n",
       "      <th></th>\n",
       "      <th>KIC</th>\n",
       "      <th>Teff</th>\n",
       "      <th>R*</th>\n",
       "      <th>Evol</th>\n",
       "      <th>Bin</th>\n",
       "    </tr>\n",
       "  </thead>\n",
       "  <tbody>\n",
       "    <tr>\n",
       "      <th>0</th>\n",
       "      <td>757076</td>\n",
       "      <td>5164</td>\n",
       "      <td>3.986</td>\n",
       "      <td>1</td>\n",
       "      <td>0</td>\n",
       "    </tr>\n",
       "    <tr>\n",
       "      <th>1</th>\n",
       "      <td>757099</td>\n",
       "      <td>5521</td>\n",
       "      <td>1.053</td>\n",
       "      <td>0</td>\n",
       "      <td>0</td>\n",
       "    </tr>\n",
       "    <tr>\n",
       "      <th>2</th>\n",
       "      <td>757137</td>\n",
       "      <td>4751</td>\n",
       "      <td>13.406</td>\n",
       "      <td>2</td>\n",
       "      <td>0</td>\n",
       "    </tr>\n",
       "    <tr>\n",
       "      <th>3</th>\n",
       "      <td>757280</td>\n",
       "      <td>6543</td>\n",
       "      <td>2.687</td>\n",
       "      <td>0</td>\n",
       "      <td>0</td>\n",
       "    </tr>\n",
       "    <tr>\n",
       "      <th>4</th>\n",
       "      <td>757450</td>\n",
       "      <td>5306</td>\n",
       "      <td>0.962</td>\n",
       "      <td>0</td>\n",
       "      <td>0</td>\n",
       "    </tr>\n",
       "  </tbody>\n",
       "</table>\n",
       "</div>"
      ],
      "text/plain": [
       "      KIC  Teff      R*  Evol  Bin\n",
       "0  757076  5164   3.986     1    0\n",
       "1  757099  5521   1.053     0    0\n",
       "2  757137  4751  13.406     2    0\n",
       "3  757280  6543   2.687     0    0\n",
       "4  757450  5306   0.962     0    0"
      ]
     },
     "execution_count": 9,
     "metadata": {},
     "output_type": "execute_result"
    }
   ],
   "source": [
    "df.head()"
   ]
  },
  {
   "cell_type": "code",
   "execution_count": 10,
   "metadata": {},
   "outputs": [
    {
     "data": {
      "text/plain": [
       "0    174446\n",
       "1      3137\n",
       "2       323\n",
       "3         5\n",
       "Name: Bin, dtype: int64"
      ]
     },
     "execution_count": 10,
     "metadata": {},
     "output_type": "execute_result"
    }
   ],
   "source": [
    "df.Bin.value_counts()"
   ]
  },
  {
   "cell_type": "code",
   "execution_count": 11,
   "metadata": {},
   "outputs": [],
   "source": [
    "import pandas as pd\n",
    "import numpy as np\n",
    "import matplotlib.pyplot as plt\n",
    "%matplotlib inline\n",
    "%config InlineBackend.figure_format = 'retina'"
   ]
  },
  {
   "cell_type": "markdown",
   "metadata": {},
   "source": [
    "Let's \"whiten\" the data:"
   ]
  },
  {
   "cell_type": "code",
   "execution_count": 12,
   "metadata": {},
   "outputs": [
    {
     "data": {
      "text/plain": [
       "count    177911.000000\n",
       "mean       5688.569886\n",
       "std         789.636412\n",
       "min        3004.000000\n",
       "25%        5206.000000\n",
       "50%        5781.000000\n",
       "75%        6158.000000\n",
       "max       20870.000000\n",
       "Name: Teff, dtype: float64"
      ]
     },
     "execution_count": 12,
     "metadata": {},
     "output_type": "execute_result"
    }
   ],
   "source": [
    "df.Teff.describe()"
   ]
  },
  {
   "cell_type": "code",
   "execution_count": 13,
   "metadata": {},
   "outputs": [],
   "source": [
    "df['Teff_white'] = df['Teff']-df['Teff'].mean()\n",
    "df['Teff_white'] = df['Teff_white']/np.std(df['Teff_white'])"
   ]
  },
  {
   "cell_type": "code",
   "execution_count": 14,
   "metadata": {},
   "outputs": [
    {
     "data": {
      "image/png": "[encoded data removed]",
      "text/plain": [
       "<Figure size 432x288 with 1 Axes>"
      ]
     },
     "metadata": {
      "image/png": {
       "height": 248,
       "width": 388
      },
      "needs_background": "light"
     },
     "output_type": "display_data"
    }
   ],
   "source": [
    "plt.hist(df['Teff_white'], bins=np.arange(-5,5,0.1));"
   ]
  },
  {
   "cell_type": "code",
   "execution_count": 15,
   "metadata": {},
   "outputs": [],
   "source": [
    "df['R_white'] = df['R*']-df['R*'].mean()\n",
    "df['R_white'] = df['R_white']/np.std(df['R_white'])"
   ]
  },
  {
   "cell_type": "code",
   "execution_count": 16,
   "metadata": {},
   "outputs": [
    {
     "data": {
      "image/png": "[encoded data removed]",
      "text/plain": [
       "<Figure size 432x288 with 1 Axes>"
      ]
     },
     "metadata": {
      "image/png": {
       "height": 248,
       "width": 388
      },
      "needs_background": "light"
     },
     "output_type": "display_data"
    }
   ],
   "source": [
    "plt.hist(df['R_white'], bins=np.arange(-5,5,0.1));"
   ]
  },
  {
   "cell_type": "code",
   "execution_count": 17,
   "metadata": {},
   "outputs": [],
   "source": [
    "df = df.drop(columns=['R*', 'Teff'])"
   ]
  },
  {
   "cell_type": "markdown",
   "metadata": {},
   "source": [
    "OK, we need to map the KIC ids to the info files.  Let's verify which info labels correspond to what stellar properties."
   ]
  },
  {
   "cell_type": "code",
   "execution_count": 18,
   "metadata": {},
   "outputs": [],
   "source": [
    "import glob"
   ]
  },
  {
   "cell_type": "code",
   "execution_count": 19,
   "metadata": {},
   "outputs": [
    {
     "name": "stdout",
     "output_type": "stream",
     "text": [
      "\u001b[1m\u001b[31mtest\u001b[m\u001b[m      \u001b[1m\u001b[31mtest_brg\u001b[m\u001b[m  \u001b[1m\u001b[31mtrain\u001b[m\u001b[m     \u001b[1m\u001b[31mtrain_brg\u001b[m\u001b[m \u001b[1m\u001b[31mval\u001b[m\u001b[m       \u001b[1m\u001b[31mval_brg\u001b[m\u001b[m\r\n"
     ]
    }
   ],
   "source": [
    "! ls /Volumes/Truro/ExoNet/exonet_inputs/"
   ]
  },
  {
   "cell_type": "code",
   "execution_count": 23,
   "metadata": {},
   "outputs": [],
   "source": [
    "test_files = glob.glob('/Volumes/Truro/ExoNet/exonet_inputs/test/*info.npy')\n",
    "train_files = glob.glob('/Volumes/Truro/ExoNet/exonet_inputs/train/*info.npy')\n",
    "val_files = glob.glob('/Volumes/Truro/ExoNet/exonet_inputs/val/*info.npy')"
   ]
  },
  {
   "cell_type": "code",
   "execution_count": 24,
   "metadata": {},
   "outputs": [
    {
     "data": {
      "text/plain": [
       "['/Volumes/Truro/ExoNet/exonet_inputs/train/kplr_000757450_01_info.npy',\n",
       " '/Volumes/Truro/ExoNet/exonet_inputs/train/kplr_000892667_01_info.npy',\n",
       " '/Volumes/Truro/ExoNet/exonet_inputs/train/kplr_000892772_01_info.npy']"
      ]
     },
     "execution_count": 24,
     "metadata": {},
     "output_type": "execute_result"
    }
   ],
   "source": [
    "train_files[0:3]"
   ]
  },
  {
   "cell_type": "code",
   "execution_count": 25,
   "metadata": {},
   "outputs": [],
   "source": [
    "kic_test = [int(string[46:-12]) for string in test_files]\n",
    "kic_train = [int(string[47:-12]) for string in train_files]\n",
    "kic_val = [int(string[45:-12]) for string in val_files]"
   ]
  },
  {
   "cell_type": "markdown",
   "metadata": {},
   "source": [
    "Make a dataframe of the info values."
   ]
  },
  {
   "cell_type": "code",
   "execution_count": 28,
   "metadata": {},
   "outputs": [],
   "source": [
    "df_info = pd.DataFrame()"
   ]
  },
  {
   "cell_type": "code",
   "execution_count": 29,
   "metadata": {},
   "outputs": [
    {
     "name": "stdout",
     "output_type": "stream",
     "text": [
      "CPU times: user 10.5 s, sys: 659 ms, total: 11.1 s\n",
      "Wall time: 11.1 s\n"
     ]
    }
   ],
   "source": [
    "%%time\n",
    "for file in train_files:\n",
    "    vec = np.load(file)\n",
    "    df_info = df_info.append(pd.DataFrame(data=vec).T, ignore_index=True)"
   ]
  },
  {
   "cell_type": "code",
   "execution_count": 30,
   "metadata": {},
   "outputs": [],
   "source": [
    "df_out = pd.merge(df, df_info, left_on='KIC', right_on=0, how='outer', indicator=True)"
   ]
  },
  {
   "cell_type": "code",
   "execution_count": 31,
   "metadata": {},
   "outputs": [
    {
     "data": {
      "text/plain": [
       "left_only     170502\n",
       "both           10597\n",
       "right_only      1340\n",
       "Name: _merge, dtype: int64"
      ]
     },
     "execution_count": 31,
     "metadata": {},
     "output_type": "execute_result"
    }
   ],
   "source": [
    "df_out._merge.value_counts()"
   ]
  },
  {
   "cell_type": "markdown",
   "metadata": {},
   "source": [
    "Again, some stars do not have Gaia measurements.  That's OK."
   ]
  },
  {
   "cell_type": "code",
   "execution_count": 32,
   "metadata": {},
   "outputs": [],
   "source": [
    "df_both = df_out[df_out._merge =='both']"
   ]
  },
  {
   "cell_type": "code",
   "execution_count": 33,
   "metadata": {},
   "outputs": [],
   "source": [
    "import seaborn as sns"
   ]
  },
  {
   "cell_type": "code",
   "execution_count": 34,
   "metadata": {},
   "outputs": [
    {
     "data": {
      "text/plain": [
       "<matplotlib.axes._subplots.AxesSubplot at 0x117080710>"
      ]
     },
     "execution_count": 34,
     "metadata": {},
     "output_type": "execute_result"
    },
    {
     "data": {
      "image/png": "[encoded data removed]",
      "text/plain": [
       "<Figure size 432x288 with 2 Axes>"
      ]
     },
     "metadata": {
      "image/png": {
       "height": 255,
       "width": 298
      },
      "needs_background": "light"
     },
     "output_type": "display_data"
    }
   ],
   "source": [
    "sns.heatmap(np.corrcoef(df_both.drop(columns=['_merge']).T), square=True, vmin=0.5)"
   ]
  },
  {
   "cell_type": "code",
   "execution_count": 35,
   "metadata": {},
   "outputs": [
    {
     "data": {
      "text/plain": [
       "[<matplotlib.lines.Line2D at 0x117482b00>]"
      ]
     },
     "execution_count": 35,
     "metadata": {},
     "output_type": "execute_result"
    },
    {
     "data": {
      "image/png": "[encoded data removed]",
      "text/plain": [
       "<Figure size 432x288 with 1 Axes>"
      ]
     },
     "metadata": {
      "image/png": {
       "height": 248,
       "width": 380
      },
      "needs_background": "light"
     },
     "output_type": "display_data"
    }
   ],
   "source": [
    "plt.plot(np.corrcoef(df_both.drop(columns=['_merge']).T)[3,:], '.')"
   ]
  },
  {
   "cell_type": "markdown",
   "metadata": {},
   "source": [
    "We're reverse engineering what is in the info file!"
   ]
  },
  {
   "cell_type": "markdown",
   "metadata": {},
   "source": [
    "OK! It looks like column **feature 9** (zero index) is the radius measurement, and **feature 6** (zero index) is the Teff measurement.  Let's replace those and then add the binary label!"
   ]
  },
  {
   "cell_type": "code",
   "execution_count": 36,
   "metadata": {},
   "outputs": [
    {
     "data": {
      "image/png": "[encoded data removed]",
      "text/plain": [
       "<Figure size 432x288 with 1 Axes>"
      ]
     },
     "metadata": {
      "image/png": {
       "height": 248,
       "width": 375
      },
      "needs_background": "light"
     },
     "output_type": "display_data"
    }
   ],
   "source": [
    "plt.hist(df_both[6], bins=np.arange(-5,5,0.1));\n",
    "plt.hist(df_both['Teff_white'], bins=np.arange(-5,5,0.1), alpha=0.5);"
   ]
  },
  {
   "cell_type": "code",
   "execution_count": 37,
   "metadata": {},
   "outputs": [
    {
     "data": {
      "image/png": "[encoded data removed]",
      "text/plain": [
       "<Figure size 432x288 with 1 Axes>"
      ]
     },
     "metadata": {
      "image/png": {
       "height": 248,
       "width": 373
      },
      "needs_background": "light"
     },
     "output_type": "display_data"
    }
   ],
   "source": [
    "plt.hist(df_both[9], bins=np.arange(-5,5,0.1));\n",
    "plt.hist(df_both['R_white'], bins=np.arange(-5,5,0.1), alpha=0.5);\n",
    "plt.yscale('log')"
   ]
  },
  {
   "cell_type": "markdown",
   "metadata": {},
   "source": [
    "The new stellar info shifts the distributions a little, which we expected."
   ]
  },
  {
   "cell_type": "code",
   "execution_count": 38,
   "metadata": {},
   "outputs": [],
   "source": [
    "def update_stellar_info(filename):\n",
    "    current_info = np.load(filename)\n",
    "    kicid = int(current_info[0])\n",
    "    mask = df.KIC == kicid\n",
    "    if mask.sum() == 1:\n",
    "        current_info[6] = df.Teff_white[mask].values\n",
    "        current_info[9] = df.R_white[mask].values\n",
    "        new_info = np.hstack((current_info, np.reshape(df[mask][['Evol', 'Bin']].values, -1)))\n",
    "    else:\n",
    "        new_info = np.hstack((current_info, np.array([0,0])))\n",
    "    fout = filename.replace('.npy', '_brg.npy').replace('/train/', '/train_brg/') #hack to avoid bash mv limit\n",
    "    np.save(fout, new_info)"
   ]
  },
  {
   "cell_type": "code",
   "execution_count": 39,
   "metadata": {},
   "outputs": [],
   "source": [
    "rerun = False"
   ]
  },
  {
   "cell_type": "code",
   "execution_count": 40,
   "metadata": {},
   "outputs": [
    {
     "name": "stdout",
     "output_type": "stream",
     "text": [
      "CPU times: user 3 µs, sys: 1 µs, total: 4 µs\n",
      "Wall time: 7.87 µs\n"
     ]
    }
   ],
   "source": [
    "%%time\n",
    "if rerun:\n",
    "    for file in val_files:\n",
    "        update_stellar_info(file)\n",
    "    for file in train_files:\n",
    "        update_stellar_info(file)\n",
    "    for file in test_files:\n",
    "        update_stellar_info(file)"
   ]
  },
  {
   "cell_type": "markdown",
   "metadata": {},
   "source": [
    "Done!"
   ]
  }
 ],
 "metadata": {
  "kernelspec": {
   "display_name": "Python 3",
   "language": "python",
   "name": "python3"
  },
  "language_info": {
   "codemirror_mode": {
    "name": "ipython",
    "version": 3
   },
   "file_extension": ".py",
   "mimetype": "text/x-python",
   "name": "python",
   "nbconvert_exporter": "python",
   "pygments_lexer": "ipython3",
   "version": "3.6.8"
  }
 },
 "nbformat": 4,
 "nbformat_minor": 2
}
